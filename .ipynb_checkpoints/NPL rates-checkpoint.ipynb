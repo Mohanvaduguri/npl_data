{
 "cells": [
  {
   "cell_type": "markdown",
   "metadata": {},
   "source": [
    "## An analysis of non-performing loan (NPL) rates globally\n",
    "\n",
    "A recent analysis of the Southeast Asian credit markets in an assignment at work brought to light some nuances regarding credit culture in this particular region. The data got me thinking about global credit health and non-performing loan rates globally. Given my recent foray into data analysis, I thought a notebook was in order.\n",
    "\n",
    "Through various data techniques, I looked into answering the following questions:\n",
    "    1. What are recent trends in non-performing loans globally?\n",
    "    2. How do core economic variables (income level, GDP etc.) impact NPL rates?\n",
    "    3. How important are other variables such as a nation's credit culture, market volatility, and real estate market?\n",
    "    \n",
    "### But first, what is the credit market and what are non-performing loans?\n",
    "\n",
    "By examining the credit market, we are essentially looking at the market in which individuals, corporations, and governments seek to borrow money from investors. This form of borrowing can take on many different forms, from your daily credit card expenses to mortgages on your next beach home.\n",
    "\n",
    "Non-performing loans (NPL) refer to loans in which the borrower has not been able to make scheduled repayments for some time (usually over 90 days). \n",
    "\n",
    "When NPL levels rise, it is often an indicator of deteriorating credit market health. In short, more people are not paying back what they owe.\n",
    "\n",
    "We'll examine NPL levels across different countries from the World Bank databank."
   ]
  },
  {
   "cell_type": "markdown",
   "metadata": {},
   "source": [
    "First, we start by importing the necessary packages..."
   ]
  },
  {
   "cell_type": "code",
   "execution_count": 53,
   "metadata": {
    "collapsed": true
   },
   "outputs": [],
   "source": [
    "import pandas as pd\n",
    "import seaborn as sb\n",
    "import numpy as np\n",
    "import matplotlib\n",
    "import matplotlib.pyplot as plt"
   ]
  },
  {
   "cell_type": "code",
   "execution_count": 54,
   "metadata": {
    "collapsed": true
   },
   "outputs": [],
   "source": [
    "import missingno as msno"
   ]
  },
  {
   "cell_type": "code",
   "execution_count": 55,
   "metadata": {
    "collapsed": true
   },
   "outputs": [],
   "source": [
    "from itertools import islice\n",
    "import csv"
   ]
  },
  {
   "cell_type": "markdown",
   "metadata": {},
   "source": [
    "I picked the dataset on d\n",
    "\n",
    "As there are some rows with filler column information, I skip the first 4 rows with islice."
   ]
  },
  {
   "cell_type": "code",
   "execution_count": 56,
   "metadata": {},
   "outputs": [
    {
     "data": {
      "text/html": [
       "<div>\n",
       "<style>\n",
       "    .dataframe thead tr:only-child th {\n",
       "        text-align: right;\n",
       "    }\n",
       "\n",
       "    .dataframe thead th {\n",
       "        text-align: left;\n",
       "    }\n",
       "\n",
       "    .dataframe tbody tr th {\n",
       "        vertical-align: top;\n",
       "    }\n",
       "</style>\n",
       "<table border=\"1\" class=\"dataframe\">\n",
       "  <thead>\n",
       "    <tr style=\"text-align: right;\">\n",
       "      <th></th>\n",
       "      <th>0</th>\n",
       "      <th>1</th>\n",
       "      <th>2</th>\n",
       "      <th>3</th>\n",
       "      <th>4</th>\n",
       "      <th>5</th>\n",
       "      <th>6</th>\n",
       "      <th>7</th>\n",
       "      <th>8</th>\n",
       "      <th>9</th>\n",
       "      <th>...</th>\n",
       "      <th>53</th>\n",
       "      <th>54</th>\n",
       "      <th>55</th>\n",
       "      <th>56</th>\n",
       "      <th>57</th>\n",
       "      <th>58</th>\n",
       "      <th>59</th>\n",
       "      <th>60</th>\n",
       "      <th>61</th>\n",
       "      <th>62</th>\n",
       "    </tr>\n",
       "  </thead>\n",
       "  <tbody>\n",
       "    <tr>\n",
       "      <th>0</th>\n",
       "      <td>Country Name</td>\n",
       "      <td>Country Code</td>\n",
       "      <td>Indicator Name</td>\n",
       "      <td>Indicator Code</td>\n",
       "      <td>1960</td>\n",
       "      <td>1961</td>\n",
       "      <td>1962</td>\n",
       "      <td>1963</td>\n",
       "      <td>1964</td>\n",
       "      <td>1965</td>\n",
       "      <td>...</td>\n",
       "      <td>2009</td>\n",
       "      <td>2010</td>\n",
       "      <td>2011</td>\n",
       "      <td>2012</td>\n",
       "      <td>2013</td>\n",
       "      <td>2014</td>\n",
       "      <td>2015</td>\n",
       "      <td>2016</td>\n",
       "      <td>2017</td>\n",
       "      <td></td>\n",
       "    </tr>\n",
       "    <tr>\n",
       "      <th>1</th>\n",
       "      <td>Aruba</td>\n",
       "      <td>ABW</td>\n",
       "      <td>Bank nonperforming loans to total gross loans (%)</td>\n",
       "      <td>FB.AST.NPER.ZS</td>\n",
       "      <td></td>\n",
       "      <td></td>\n",
       "      <td></td>\n",
       "      <td></td>\n",
       "      <td></td>\n",
       "      <td></td>\n",
       "      <td>...</td>\n",
       "      <td></td>\n",
       "      <td></td>\n",
       "      <td></td>\n",
       "      <td></td>\n",
       "      <td></td>\n",
       "      <td></td>\n",
       "      <td></td>\n",
       "      <td></td>\n",
       "      <td></td>\n",
       "      <td></td>\n",
       "    </tr>\n",
       "    <tr>\n",
       "      <th>2</th>\n",
       "      <td>Afghanistan</td>\n",
       "      <td>AFG</td>\n",
       "      <td>Bank nonperforming loans to total gross loans (%)</td>\n",
       "      <td>FB.AST.NPER.ZS</td>\n",
       "      <td></td>\n",
       "      <td></td>\n",
       "      <td></td>\n",
       "      <td></td>\n",
       "      <td></td>\n",
       "      <td></td>\n",
       "      <td>...</td>\n",
       "      <td></td>\n",
       "      <td>49.9013229069412</td>\n",
       "      <td>4.6968178252385</td>\n",
       "      <td>4.95890140377645</td>\n",
       "      <td>4.85228704838131</td>\n",
       "      <td>7.7810908959605</td>\n",
       "      <td>12.0536179767696</td>\n",
       "      <td>11.0743789647307</td>\n",
       "      <td></td>\n",
       "      <td></td>\n",
       "    </tr>\n",
       "    <tr>\n",
       "      <th>3</th>\n",
       "      <td>Angola</td>\n",
       "      <td>AGO</td>\n",
       "      <td>Bank nonperforming loans to total gross loans (%)</td>\n",
       "      <td>FB.AST.NPER.ZS</td>\n",
       "      <td></td>\n",
       "      <td></td>\n",
       "      <td></td>\n",
       "      <td></td>\n",
       "      <td></td>\n",
       "      <td></td>\n",
       "      <td>...</td>\n",
       "      <td></td>\n",
       "      <td>3.17305056414187</td>\n",
       "      <td>2.01496821504011</td>\n",
       "      <td>4.35011884491608</td>\n",
       "      <td>7.97676918024597</td>\n",
       "      <td>10.1905320738466</td>\n",
       "      <td>10.6112339715733</td>\n",
       "      <td></td>\n",
       "      <td></td>\n",
       "      <td></td>\n",
       "    </tr>\n",
       "    <tr>\n",
       "      <th>4</th>\n",
       "      <td>Albania</td>\n",
       "      <td>ALB</td>\n",
       "      <td>Bank nonperforming loans to total gross loans (%)</td>\n",
       "      <td>FB.AST.NPER.ZS</td>\n",
       "      <td></td>\n",
       "      <td></td>\n",
       "      <td></td>\n",
       "      <td></td>\n",
       "      <td></td>\n",
       "      <td></td>\n",
       "      <td>...</td>\n",
       "      <td></td>\n",
       "      <td></td>\n",
       "      <td></td>\n",
       "      <td></td>\n",
       "      <td></td>\n",
       "      <td></td>\n",
       "      <td></td>\n",
       "      <td></td>\n",
       "      <td></td>\n",
       "      <td></td>\n",
       "    </tr>\n",
       "  </tbody>\n",
       "</table>\n",
       "<p>5 rows × 63 columns</p>\n",
       "</div>"
      ],
      "text/plain": [
       "             0             1   \\\n",
       "0  Country Name  Country Code   \n",
       "1         Aruba           ABW   \n",
       "2   Afghanistan           AFG   \n",
       "3        Angola           AGO   \n",
       "4       Albania           ALB   \n",
       "\n",
       "                                                  2               3     4   \\\n",
       "0                                     Indicator Name  Indicator Code  1960   \n",
       "1  Bank nonperforming loans to total gross loans (%)  FB.AST.NPER.ZS         \n",
       "2  Bank nonperforming loans to total gross loans (%)  FB.AST.NPER.ZS         \n",
       "3  Bank nonperforming loans to total gross loans (%)  FB.AST.NPER.ZS         \n",
       "4  Bank nonperforming loans to total gross loans (%)  FB.AST.NPER.ZS         \n",
       "\n",
       "     5     6     7     8     9  ...    53                54                55  \\\n",
       "0  1961  1962  1963  1964  1965 ...  2009              2010              2011   \n",
       "1                               ...                                             \n",
       "2                               ...        49.9013229069412   4.6968178252385   \n",
       "3                               ...        3.17305056414187  2.01496821504011   \n",
       "4                               ...                                             \n",
       "\n",
       "                 56                57                58                59  \\\n",
       "0              2012              2013              2014              2015   \n",
       "1                                                                           \n",
       "2  4.95890140377645  4.85228704838131   7.7810908959605  12.0536179767696   \n",
       "3  4.35011884491608  7.97676918024597  10.1905320738466  10.6112339715733   \n",
       "4                                                                           \n",
       "\n",
       "                 60    61 62  \n",
       "0              2016  2017     \n",
       "1                             \n",
       "2  11.0743789647307           \n",
       "3                             \n",
       "4                             \n",
       "\n",
       "[5 rows x 63 columns]"
      ]
     },
     "execution_count": 56,
     "metadata": {},
     "output_type": "execute_result"
    }
   ],
   "source": [
    "all_data = []\n",
    "with open('NPL.csv') as data:\n",
    "    for row in islice(csv.reader(data), 4, None):\n",
    "        all_data.append(np.array(row))\n",
    "        \n",
    "df = pd.DataFrame(all_data)\n",
    "df.head()"
   ]
  },
  {
   "cell_type": "code",
   "execution_count": 59,
   "metadata": {},
   "outputs": [
    {
     "name": "stdout",
     "output_type": "stream",
     "text": [
      "<class 'pandas.core.frame.DataFrame'>\n",
      "RangeIndex: 265 entries, 0 to 264\n",
      "Data columns (total 63 columns):\n",
      "0     265 non-null object\n",
      "1     265 non-null object\n",
      "2     265 non-null object\n",
      "3     265 non-null object\n",
      "4     265 non-null object\n",
      "5     265 non-null object\n",
      "6     265 non-null object\n",
      "7     265 non-null object\n",
      "8     265 non-null object\n",
      "9     265 non-null object\n",
      "10    265 non-null object\n",
      "11    265 non-null object\n",
      "12    265 non-null object\n",
      "13    265 non-null object\n",
      "14    265 non-null object\n",
      "15    265 non-null object\n",
      "16    265 non-null object\n",
      "17    265 non-null object\n",
      "18    265 non-null object\n",
      "19    265 non-null object\n",
      "20    265 non-null object\n",
      "21    265 non-null object\n",
      "22    265 non-null object\n",
      "23    265 non-null object\n",
      "24    265 non-null object\n",
      "25    265 non-null object\n",
      "26    265 non-null object\n",
      "27    265 non-null object\n",
      "28    265 non-null object\n",
      "29    265 non-null object\n",
      "30    265 non-null object\n",
      "31    265 non-null object\n",
      "32    265 non-null object\n",
      "33    265 non-null object\n",
      "34    265 non-null object\n",
      "35    265 non-null object\n",
      "36    265 non-null object\n",
      "37    265 non-null object\n",
      "38    265 non-null object\n",
      "39    265 non-null object\n",
      "40    265 non-null object\n",
      "41    265 non-null object\n",
      "42    265 non-null object\n",
      "43    265 non-null object\n",
      "44    265 non-null object\n",
      "45    265 non-null object\n",
      "46    265 non-null object\n",
      "47    265 non-null object\n",
      "48    265 non-null object\n",
      "49    265 non-null object\n",
      "50    265 non-null object\n",
      "51    265 non-null object\n",
      "52    265 non-null object\n",
      "53    265 non-null object\n",
      "54    265 non-null object\n",
      "55    265 non-null object\n",
      "56    265 non-null object\n",
      "57    265 non-null object\n",
      "58    265 non-null object\n",
      "59    265 non-null object\n",
      "60    265 non-null object\n",
      "61    265 non-null object\n",
      "62    265 non-null object\n",
      "dtypes: object(63)\n",
      "memory usage: 130.5+ KB\n"
     ]
    }
   ],
   "source": [
    "df.info()"
   ]
  },
  {
   "cell_type": "markdown",
   "metadata": {},
   "source": [
    "A look at the dataframe seems to indicate that there are lots of missing data, especially for earlier years. To get a better picture of what data is usually missing, we use missingno to get a quick visualization.\n",
    "\n",
    "Before using missingno however, it appears that empty data is represented by numpy strings. Thus we look to replace all such instances with np.nan for the missingno visualization to work."
   ]
  },
  {
   "cell_type": "code",
   "execution_count": 60,
   "metadata": {},
   "outputs": [],
   "source": [
    "df = df.replace('', np.nan, regex = True)"
   ]
  },
  {
   "cell_type": "code",
   "execution_count": 61,
   "metadata": {},
   "outputs": [
    {
     "data": {
      "text/plain": [
       "<matplotlib.axes._subplots.AxesSubplot at 0x1a17ae4f28>"
      ]
     },
     "execution_count": 61,
     "metadata": {},
     "output_type": "execute_result"
    },
    {
     "data": {
      "image/png": "[encoded data removed]",
      "text/plain": [
       "<matplotlib.figure.Figure at 0x1a16df3128>"
      ]
     },
     "metadata": {},
     "output_type": "display_data"
    }
   ],
   "source": [
    "%matplotlib inline\n",
    "msno.matrix(df)"
   ]
  },
  {
   "cell_type": "markdown",
   "metadata": {},
   "source": [
    "The visualization seems to indicate large blocks of missing data, especially with the annual data up to 2010. 2016 seems to have more missing data relative to the 6 years prior. Nations that are missing data for the 2010-2015 period are thus dropped. \n",
    "\n",
    "Furthermore, the columns for 'Indicator name' and 'Indicator code' don't seem particularly useful.\n",
    "\n",
    "We'll create a new dataframe with only the country, country code, and data for years 2010-2015. "
   ]
  },
  {
   "cell_type": "code",
   "execution_count": 66,
   "metadata": {},
   "outputs": [
    {
     "data": {
      "text/html": [
       "<div>\n",
       "<style>\n",
       "    .dataframe thead tr:only-child th {\n",
       "        text-align: right;\n",
       "    }\n",
       "\n",
       "    .dataframe thead th {\n",
       "        text-align: left;\n",
       "    }\n",
       "\n",
       "    .dataframe tbody tr th {\n",
       "        vertical-align: top;\n",
       "    }\n",
       "</style>\n",
       "<table border=\"1\" class=\"dataframe\">\n",
       "  <thead>\n",
       "    <tr style=\"text-align: right;\">\n",
       "      <th></th>\n",
       "      <th>0</th>\n",
       "      <th>1</th>\n",
       "      <th>54</th>\n",
       "      <th>55</th>\n",
       "      <th>56</th>\n",
       "      <th>57</th>\n",
       "      <th>58</th>\n",
       "      <th>59</th>\n",
       "    </tr>\n",
       "  </thead>\n",
       "  <tbody>\n",
       "    <tr>\n",
       "      <th>0</th>\n",
       "      <td>Country Name</td>\n",
       "      <td>Country Code</td>\n",
       "      <td>2010</td>\n",
       "      <td>2011</td>\n",
       "      <td>2012</td>\n",
       "      <td>2013</td>\n",
       "      <td>2014</td>\n",
       "      <td>2015</td>\n",
       "    </tr>\n",
       "    <tr>\n",
       "      <th>2</th>\n",
       "      <td>Afghanistan</td>\n",
       "      <td>AFG</td>\n",
       "      <td>49.9013229069412</td>\n",
       "      <td>4.6968178252385</td>\n",
       "      <td>4.95890140377645</td>\n",
       "      <td>4.85228704838131</td>\n",
       "      <td>7.7810908959605</td>\n",
       "      <td>12.0536179767696</td>\n",
       "    </tr>\n",
       "    <tr>\n",
       "      <th>3</th>\n",
       "      <td>Angola</td>\n",
       "      <td>AGO</td>\n",
       "      <td>3.17305056414187</td>\n",
       "      <td>2.01496821504011</td>\n",
       "      <td>4.35011884491608</td>\n",
       "      <td>7.97676918024597</td>\n",
       "      <td>10.1905320738466</td>\n",
       "      <td>10.6112339715733</td>\n",
       "    </tr>\n",
       "    <tr>\n",
       "      <th>7</th>\n",
       "      <td>United Arab Emirates</td>\n",
       "      <td>ARE</td>\n",
       "      <td>5.26698896173513</td>\n",
       "      <td>6.08629581295722</td>\n",
       "      <td>7.12965175228017</td>\n",
       "      <td>6.73555170490737</td>\n",
       "      <td>5.63661628252583</td>\n",
       "      <td>5.19506180189675</td>\n",
       "    </tr>\n",
       "    <tr>\n",
       "      <th>8</th>\n",
       "      <td>Argentina</td>\n",
       "      <td>ARG</td>\n",
       "      <td>2.11702287385862</td>\n",
       "      <td>1.39559840620402</td>\n",
       "      <td>1.7345487210843</td>\n",
       "      <td>1.73258243136737</td>\n",
       "      <td>1.990064383351</td>\n",
       "      <td>1.73684181834171</td>\n",
       "    </tr>\n",
       "  </tbody>\n",
       "</table>\n",
       "</div>"
      ],
      "text/plain": [
       "                     0             1                 54                55  \\\n",
       "0          Country Name  Country Code              2010              2011   \n",
       "2           Afghanistan           AFG  49.9013229069412   4.6968178252385   \n",
       "3                Angola           AGO  3.17305056414187  2.01496821504011   \n",
       "7  United Arab Emirates           ARE  5.26698896173513  6.08629581295722   \n",
       "8             Argentina           ARG  2.11702287385862  1.39559840620402   \n",
       "\n",
       "                 56                57                58                59  \n",
       "0              2012              2013              2014              2015  \n",
       "2  4.95890140377645  4.85228704838131   7.7810908959605  12.0536179767696  \n",
       "3  4.35011884491608  7.97676918024597  10.1905320738466  10.6112339715733  \n",
       "7  7.12965175228017  6.73555170490737  5.63661628252583  5.19506180189675  \n",
       "8   1.7345487210843  1.73258243136737    1.990064383351  1.73684181834171  "
      ]
     },
     "execution_count": 66,
     "metadata": {},
     "output_type": "execute_result"
    }
   ],
   "source": [
    "df = df[[0,1,54,55,56,57,58,59]]\n",
    "df.dropna(inplace = True)\n",
    "df.head()"
   ]
  },
  {
   "cell_type": "code",
   "execution_count": 68,
   "metadata": {},
   "outputs": [
    {
     "data": {
      "text/plain": [
       "<matplotlib.axes._subplots.AxesSubplot at 0x1a171cb3c8>"
      ]
     },
     "execution_count": 68,
     "metadata": {},
     "output_type": "execute_result"
    },
    {
     "data": {
      "image/png": "[encoded data removed]",
      "text/plain": [
       "<matplotlib.figure.Figure at 0x1a0ac36ac8>"
      ]
     },
     "metadata": {},
     "output_type": "display_data"
    }
   ],
   "source": [
    "%matplotlib inline\n",
    "msno.matrix(df)"
   ]
  },
  {
   "cell_type": "markdown",
   "metadata": {},
   "source": [
    "Much better."
   ]
  },
  {
   "cell_type": "code",
   "execution_count": null,
   "metadata": {
    "collapsed": true
   },
   "outputs": [],
   "source": []
  },
  {
   "cell_type": "code",
   "execution_count": null,
   "metadata": {
    "collapsed": true
   },
   "outputs": [],
   "source": []
  },
  {
   "cell_type": "code",
   "execution_count": null,
   "metadata": {
    "collapsed": true
   },
   "outputs": [],
   "source": []
  },
  {
   "cell_type": "code",
   "execution_count": null,
   "metadata": {
    "collapsed": true
   },
   "outputs": [],
   "source": []
  },
  {
   "cell_type": "code",
   "execution_count": null,
   "metadata": {
    "collapsed": true
   },
   "outputs": [],
   "source": []
  },
  {
   "cell_type": "code",
   "execution_count": null,
   "metadata": {
    "collapsed": true
   },
   "outputs": [],
   "source": []
  },
  {
   "cell_type": "code",
   "execution_count": null,
   "metadata": {
    "collapsed": true
   },
   "outputs": [],
   "source": []
  },
  {
   "cell_type": "code",
   "execution_count": null,
   "metadata": {
    "collapsed": true
   },
   "outputs": [],
   "source": []
  },
  {
   "cell_type": "code",
   "execution_count": null,
   "metadata": {
    "collapsed": true
   },
   "outputs": [],
   "source": []
  },
  {
   "cell_type": "code",
   "execution_count": null,
   "metadata": {
    "collapsed": true
   },
   "outputs": [],
   "source": []
  },
  {
   "cell_type": "code",
   "execution_count": null,
   "metadata": {
    "collapsed": true
   },
   "outputs": [],
   "source": []
  },
  {
   "cell_type": "code",
   "execution_count": null,
   "metadata": {},
   "outputs": [],
   "source": [
    "df = df[[0,1,52,53,54,55,56,57,58,59,60]]\n",
    "df.columns = df.iloc[0]\n",
    "df.reindex(df.index.drop(0))"
   ]
  },
  {
   "cell_type": "code",
   "execution_count": null,
   "metadata": {},
   "outputs": [],
   "source": [
    "print(df[df['Country Name'] == 'Lao PDR'])\n",
    "ASEAN = ['Vietnam', 'Thailand', 'Indonesia', 'Singapore', 'Malaysia', 'Philippines', 'Cambodia', 'Myanmar', 'Lao PDR', 'Brunei Darussalam', 'Timor-Leste']"
   ]
  },
  {
   "cell_type": "code",
   "execution_count": null,
   "metadata": {
    "scrolled": true
   },
   "outputs": [],
   "source": [
    "ASEAN_data = []\n",
    "print(type(ASEAN_data))\n",
    "\n",
    "for country in ASEAN:\n",
    "    ASEAN_data.append(df[df['Country Name'] == country])\n",
    "\n",
    "\n",
    "ASEAN_df = pd.concat(ASEAN_data)\n",
    "ASEAN_df"
   ]
  },
  {
   "cell_type": "code",
   "execution_count": null,
   "metadata": {},
   "outputs": [],
   "source": [
    "ASEAN_df.dropna()"
   ]
  },
  {
   "cell_type": "code",
   "execution_count": null,
   "metadata": {},
   "outputs": [],
   "source": [
    "ASEAN_T = ASEAN_df.T\n",
    "ASEAN_T.columns = ASEAN\n",
    "ASEAN_T"
   ]
  },
  {
   "cell_type": "code",
   "execution_count": null,
   "metadata": {
    "collapsed": true
   },
   "outputs": [],
   "source": [
    "years = ASEAN_T.index[2:11]"
   ]
  },
  {
   "cell_type": "code",
   "execution_count": null,
   "metadata": {},
   "outputs": [],
   "source": [
    "plt.plot(years,'Vietnam',data = ASEAN_T)"
   ]
  }
 ],
 "metadata": {
  "kernelspec": {
   "display_name": "Python 3",
   "language": "python",
   "name": "python3"
  },
  "language_info": {
   "codemirror_mode": {
    "name": "ipython",
    "version": 3
   },
   "file_extension": ".py",
   "mimetype": "text/x-python",
   "name": "python",
   "nbconvert_exporter": "python",
   "pygments_lexer": "ipython3",
   "version": "3.6.3"
  }
 },
 "nbformat": 4,
 "nbformat_minor": 2
}
